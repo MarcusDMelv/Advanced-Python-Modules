{
 "cells": [
  {
   "cell_type": "code",
   "execution_count": 1,
   "metadata": {
    "collapsed": false
   },
   "outputs": [
   ],
   "source": [
    "# Open every file in a directory and read and write to them\n",
    "\n",
    "# move files around on our own computer"
   ]
  },
  {
   "cell_type": "code",
   "execution_count": 2,
   "metadata": {
    "collapsed": false
   },
   "outputs": [
    {
     "data": {
      "text/plain": [
       "'/home/user/2022-03-13-121845'"
      ]
     },
     "execution_count": 2,
     "metadata": {
     },
     "output_type": "execute_result"
    }
   ],
   "source": [
    "pwd # use to show current directory"
   ]
  },
  {
   "cell_type": "code",
   "execution_count": 4,
   "metadata": {
    "collapsed": false
   },
   "outputs": [
   ],
   "source": [
    "f = open('practice.txt','wt') # since it does not exist it will be created in same directory"
   ]
  },
  {
   "cell_type": "code",
   "execution_count": 5,
   "metadata": {
    "collapsed": false
   },
   "outputs": [
    {
     "data": {
      "text/plain": [
       "21"
      ]
     },
     "execution_count": 5,
     "metadata": {
     },
     "output_type": "execute_result"
    }
   ],
   "source": [
    "f.write('This is a test string') # this will write to practice.txt file"
   ]
  },
  {
   "cell_type": "code",
   "execution_count": 6,
   "metadata": {
    "collapsed": false
   },
   "outputs": [
   ],
   "source": [
    "f.close()"
   ]
  },
  {
   "cell_type": "code",
   "execution_count": 7,
   "metadata": {
    "collapsed": false
   },
   "outputs": [
    {
     "data": {
      "text/plain": [
       "'/home/user/2022-03-13-121845'"
      ]
     },
     "execution_count": 7,
     "metadata": {
     },
     "output_type": "execute_result"
    }
   ],
   "source": [
    "import os # built-in module\n",
    "os.getcwd() # works with any python script"
   ]
  },
  {
   "cell_type": "code",
   "execution_count": 8,
   "metadata": {
    "collapsed": false
   },
   "outputs": [
    {
     "data": {
      "text/plain": [
       "['testfile',\n",
       " 'Opening_Reading_FilesAndFolders.ipynb',\n",
       " 'UsefulOperators.ipynb',\n",
       " '.Tuples.ipynb.sage-jupyter2',\n",
       " 'ClassObjectAttributesAndMethods.ipynb',\n",
       " '.FilesInputOutput.ipynb.sage-jupyter2',\n",
       " '.MethodsAndDocumentation.ipynb.sage-jupyter2',\n",
       " 'BasicFunctions.ipynb',\n",
       " 'DisplayingInformation.ipynb',\n",
       " '.TupleUnpacking.ipynb.sage-jupyter2',\n",
       " '.LogicFunctions.ipynb.sage-jupyter2',\n",
       " 'Sets.ipynb',\n",
       " 'ForLoops.ipynb',\n",
       " 'StringAndMethods.ipynb',\n",
       " 'practice.txt',\n",
       " '.InteractionsBetweenFunctions.ipynb.sage-jupyter2',\n",
       " '.Dictionaries.ipynb.sage-jupyter2',\n",
       " '.ChainingComparisonOperators.ipynb.sage-jupyter2',\n",
       " 'AttributesAndClassKeyword.ipynb',\n",
       " 'LogicFunctions.ipynb',\n",
       " 'Tuples.ipynb',\n",
       " '.Assesment Practice.ipynb.sage-jupyter2',\n",
       " '.BasicFunctions.ipynb.sage-jupyter2',\n",
       " '.DisplayingInformation.ipynb.sage-jupyter2',\n",
       " 'ValidatingUserInput.ipynb',\n",
       " 'ComparisonOperators.ipynb',\n",
       " '.IfElifandElseStatements.ipynb.sage-jupyter2',\n",
       " 'NestedStatementsandScope.ipynb',\n",
       " 'variableAssignments .ipynb',\n",
       " 'ErrorsandExceptionHandling.ipynb',\n",
       " '.LambdaExpressionsMapAndFilterFunctions.ipynb.sage-jupyter2',\n",
       " 'create_file.txt',\n",
       " '.TicTacToeGame.ipynb.sage-jupyter2',\n",
       " '.AcceptingUserInput.ipynb.sage-jupyter2',\n",
       " '.strings.ipynb.sage-jupyter2',\n",
       " '.ListComprehensions.ipynb.sage-jupyter2',\n",
       " 'PrintFormattingWithStrings.ipynb',\n",
       " '2022-03-17-111551.ipynb',\n",
       " '.Generators.ipynb.sage-jupyter2',\n",
       " 'Lists.ipynb',\n",
       " 'SimpleUserInteraction.ipynb',\n",
       " 'indexing_and_slicing.ipynb',\n",
       " 'ArgsAndKwargs.ipynb',\n",
       " 'SpecialMethods.ipynb',\n",
       " '.NestedStatementsandScope.ipynb.sage-jupyter2',\n",
       " 'my_new_file.txt',\n",
       " '.PythonCollections.ipynb.sage-jupyter2',\n",
       " 'pythonNumbers.ipynb',\n",
       " 'AcceptingUserInput.ipynb',\n",
       " 'WhileLoops.ipynb',\n",
       " '.Lists.ipynb.sage-jupyter2',\n",
       " '.ComparisonOperators.ipynb.sage-jupyter2',\n",
       " '.Booleans.ipynb.sage-jupyter2',\n",
       " '.Sets.ipynb.sage-jupyter2',\n",
       " 'Booleans.ipynb',\n",
       " '.AttributesAndClassKeyword.ipynb.sage-jupyter2',\n",
       " '.Decorators.ipynb.sage-jupyter2',\n",
       " 'Assesment Practice.ipynb',\n",
       " 'MethodsAndDocumentation.ipynb',\n",
       " 'InheritanceAndPolymorphism.ipynb',\n",
       " 'InteractionsBetweenFunctions.ipynb',\n",
       " 'FilesInputOutput.ipynb',\n",
       " '.practice_functions.ipynb.sage-jupyter2',\n",
       " 'PythonCollections.ipynb',\n",
       " '.ArgsAndKwargs.ipynb.sage-jupyter2',\n",
       " '.pythonNumbers.ipynb.sage-jupyter2',\n",
       " 'IfElifandElseStatements.ipynb',\n",
       " 'TicTacToeGame.ipynb',\n",
       " 'Decorators.ipynb',\n",
       " '.Opening_Reading_FilesAndFolders.ipynb.sage-jupyter2',\n",
       " '.SimpleUserInteraction.ipynb.sage-jupyter2',\n",
       " '.ErrorsandExceptionHandling.ipynb.sage-jupyter2',\n",
       " 'LambdaExpressionsMapAndFilterFunctions.ipynb',\n",
       " '.variableAssignments .ipynb.sage-jupyter2',\n",
       " 'TupleUnpacking.ipynb',\n",
       " 'myfile.txt',\n",
       " 'strings.ipynb',\n",
       " '.InheritanceAndPolymorphism.ipynb.sage-jupyter2',\n",
       " '.WhileLoops.ipynb.sage-jupyter2',\n",
       " '.ForLoops.ipynb.sage-jupyter2',\n",
       " '.ValidatingUserInput.ipynb.sage-jupyter2',\n",
       " 'practice_functions.ipynb',\n",
       " '.SpecialMethods.ipynb.sage-jupyter2',\n",
       " '.StringAndMethods.ipynb.sage-jupyter2',\n",
       " '.ClassObjectAttributesAndMethods.ipynb.sage-jupyter2',\n",
       " '.PrintFormattingWithStrings.ipynb.sage-jupyter2',\n",
       " '.UsefulOperators.ipynb.sage-jupyter2',\n",
       " '.indexing_and_slicing.ipynb.sage-jupyter2',\n",
       " '.2022-03-17-111551.ipynb.sage-jupyter2',\n",
       " 'ChainingComparisonOperators.ipynb',\n",
       " 'ListComprehensions.ipynb',\n",
       " 'Generators.ipynb',\n",
       " 'Dictionaries.ipynb']"
      ]
     },
     "execution_count": 8,
     "metadata": {
     },
     "output_type": "execute_result"
    }
   ],
   "source": [
    "os.listdir() # list items in directory"
   ]
  },
  {
   "cell_type": "code",
   "execution_count": 13,
   "metadata": {
    "collapsed": false
   },
   "outputs": [
   ],
   "source": [
    "# move files around\n",
    "import shutil"
   ]
  },
  {
   "cell_type": "code",
   "execution_count": 0,
   "metadata": {
    "collapsed": false
   },
   "outputs": [
   ],
   "source": [
    "shutul.move('practice.txt',)"
   ]
  }
 ],
 "metadata": {
  "kernelspec": {
   "display_name": "Python 3 (system-wide)",
   "language": "python",
   "metadata": {
    "cocalc": {
     "description": "Python 3 programming language",
     "priority": 100,
     "url": "https://www.python.org/"
    }
   },
   "name": "python3",
   "resource_dir": "/ext/jupyter/kernels/python3"
  },
  "language_info": {
   "codemirror_mode": {
    "name": "ipython",
    "version": 3
   },
   "file_extension": ".py",
   "mimetype": "text/x-python",
   "name": "python",
   "nbconvert_exporter": "python",
   "pygments_lexer": "ipython3",
   "version": "3.8.10"
  }
 },
 "nbformat": 4,
 "nbformat_minor": 4
}